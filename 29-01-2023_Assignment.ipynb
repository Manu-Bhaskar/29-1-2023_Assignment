{
 "cells": [
  {
   "cell_type": "markdown",
   "id": "edac2d1f-7b83-4735-a2af-33b42bf9c98d",
   "metadata": {},
   "source": [
    "ANS 1-"
   ]
  },
  {
   "cell_type": "markdown",
   "id": "11e2bd41-5625-4964-90c4-651eb3e8c1d3",
   "metadata": {},
   "source": [
    "Python programming language was developed by Guido van Rosssum and first released on February 20, 1991."
   ]
  },
  {
   "cell_type": "markdown",
   "id": "b26cd48f-3d95-4bc1-8ed3-b55e9252f81b",
   "metadata": {},
   "source": [
    "ANS 2-"
   ]
  },
  {
   "cell_type": "markdown",
   "id": "b217637a-711d-4c52-ad9b-aba7bb91f2bd",
   "metadata": {},
   "source": [
    "Python Supports multiple programming paradigms:\n",
    "procedural, object oriented and functional. Python itself supports self typing, that is, it understands what type of data is being given without specifying."
   ]
  },
  {
   "cell_type": "markdown",
   "id": "ee1fba68-aa22-40cc-8be4-91fa530fe9e1",
   "metadata": {},
   "source": [
    "ANS 3-"
   ]
  },
  {
   "cell_type": "markdown",
   "id": "ae566901-bcaf-479f-b5a2-270da8c8cf68",
   "metadata": {},
   "source": [
    "Yes, Python is a case-sensitive language, so identifiers are case-sensitive. that is, it considers uppercase and lowercase characters differentely."
   ]
  },
  {
   "cell_type": "markdown",
   "id": "1a8f31e0-436d-4031-b4cb-90d095202187",
   "metadata": {},
   "source": [
    "ANS 4-"
   ]
  },
  {
   "cell_type": "markdown",
   "id": "e9bd2953-2cd4-4d6d-9299-e417f8880c5a",
   "metadata": {},
   "source": [
    "Correct extensins for pyhon files are .py"
   ]
  },
  {
   "cell_type": "markdown",
   "id": "5fab6e64-c7ee-492e-9243-ef224dff4855",
   "metadata": {},
   "source": [
    "ANS 5-"
   ]
  },
  {
   "cell_type": "markdown",
   "id": "8efd257f-8720-4316-99cb-65122faff5be",
   "metadata": {},
   "source": [
    "Python is an interpreted language, which means code is converted into bytecode that is then executed by pytho virtual machine."
   ]
  },
  {
   "cell_type": "markdown",
   "id": "f202fafa-dbb9-4dc2-8c70-45d94c4cb446",
   "metadata": {},
   "source": [
    "ANS 6-"
   ]
  },
  {
   "cell_type": "markdown",
   "id": "5742d8c8-1938-40a3-a4b9-edd3a9ef5419",
   "metadata": {},
   "source": [
    "A python program is constructed from code blocks. A block is a piece of program textthat is executed as a unit. The Following are blocks:\n",
    "a module, a function body and a class definition"
   ]
  },
  {
   "cell_type": "markdown",
   "id": "e1242519-2f56-4b63-9c91-cb5ca0e77ddb",
   "metadata": {},
   "source": [
    "ANS 7-"
   ]
  },
  {
   "cell_type": "markdown",
   "id": "5d9dfff3-49ec-4240-9b0a-9f075a5dd6e9",
   "metadata": {},
   "source": [
    "Single lined comments are identified with a hash symbol(#)."
   ]
  },
  {
   "cell_type": "markdown",
   "id": "38a73246-bc3c-43e3-9f97-d875b9d30e75",
   "metadata": {},
   "source": [
    "ANS 8-"
   ]
  },
  {
   "cell_type": "code",
   "execution_count": 5,
   "id": "39ff024b-96d9-4462-9642-ddb19d0bb41d",
   "metadata": {},
   "outputs": [
    {
     "data": {
      "text/plain": [
       "'3.10.8 | packaged by conda-forge | (main, Nov 22 2022, 08:26:04) [GCC 10.4.0]'"
      ]
     },
     "execution_count": 5,
     "metadata": {},
     "output_type": "execute_result"
    }
   ],
   "source": [
    "#this function can be used to identify the version of python\n",
    "import sys\n",
    "sys.version"
   ]
  },
  {
   "cell_type": "markdown",
   "id": "4106ee03-5357-4b74-8ded-0f5ef5bb9e4f",
   "metadata": {},
   "source": [
    "ANS 9-"
   ]
  },
  {
   "cell_type": "markdown",
   "id": "24248360-d93b-47da-b2e6-cfa71e3676aa",
   "metadata": {},
   "source": [
    "Python supports the creation of anonymous functions at runtime, using a construct called lambda"
   ]
  },
  {
   "cell_type": "markdown",
   "id": "747887cd-f589-468d-b71d-5216d3f80db8",
   "metadata": {},
   "source": [
    "ANS 10-"
   ]
  },
  {
   "cell_type": "markdown",
   "id": "d237eb55-b65c-44c4-bbff-7787c59b875c",
   "metadata": {},
   "source": [
    "PIP- Preferred Installer Program"
   ]
  },
  {
   "cell_type": "markdown",
   "id": "1d30eca1-fa43-4329-a480-c70d74421a67",
   "metadata": {},
   "source": [
    "ANS 11-"
   ]
  },
  {
   "cell_type": "markdown",
   "id": "d38b8257-5716-409d-9e75-e5d3b7b637e6",
   "metadata": {},
   "source": [
    "Some inbuilt functions in python are print(), count(), input() etc"
   ]
  },
  {
   "cell_type": "markdown",
   "id": "fd22a1ee-6aae-438d-883a-7ead8df5ee6c",
   "metadata": {},
   "source": [
    "ANS 12-"
   ]
  },
  {
   "cell_type": "markdown",
   "id": "f1577d3d-1bd4-40e1-b7ee-6a57519cd23a",
   "metadata": {},
   "source": [
    "An identifier can have maximum length of 79 characters in Python"
   ]
  },
  {
   "cell_type": "markdown",
   "id": "e10eb5a9-c408-47bd-96fb-1cbe2a74eaf7",
   "metadata": {},
   "source": [
    "ANS 13-"
   ]
  },
  {
   "cell_type": "markdown",
   "id": "048d26f4-08c9-413f-a06b-b68968501258",
   "metadata": {},
   "source": [
    "Earning Potential. Python is the second-highest paid computer language, according to Indeed.\n",
    "Ease of Comprehension. One of the top benefits of Python is that it is easy to learn and fun to use.\n",
    "Flexibility. Not only is Python easy to learn, but also, it's flexible. ...\n",
    "Used in Many Industries."
   ]
  },
  {
   "cell_type": "markdown",
   "id": "9fd4776c-d95d-4bc7-98d8-f5709b3abf98",
   "metadata": {},
   "source": [
    "ANS 14-"
   ]
  },
  {
   "cell_type": "markdown",
   "id": "c2dfdf12-4917-4534-bf9d-0e11ca85f0aa",
   "metadata": {},
   "source": [
    "Python uses a memory manager to manage memory allocation and deallocation. The memory manager is responsible for allocating memory to python objects and tracking which objects are currently in use. Python has two types of memory that it uses: stack memory and heap memory"
   ]
  },
  {
   "cell_type": "markdown",
   "id": "5679a411-ef55-4751-b224-5e881bd10735",
   "metadata": {},
   "source": [
    "ANS 15-"
   ]
  },
  {
   "cell_type": "markdown",
   "id": "3c605e6b-242d-464b-8120-d571ff2908ee",
   "metadata": {},
   "source": [
    "We can download python form official website python.com\n",
    "And we can set path variable in system settings"
   ]
  },
  {
   "cell_type": "markdown",
   "id": "da92ac13-690b-4712-ad9b-28b206654167",
   "metadata": {},
   "source": [
    "ANS 16-"
   ]
  },
  {
   "cell_type": "markdown",
   "id": "b56afa87-8d74-4052-be9e-8d276573b0a9",
   "metadata": {},
   "source": [
    "Indentation is mandatory in python to define the blocks of statements."
   ]
  }
 ],
 "metadata": {
  "kernelspec": {
   "display_name": "Python 3 (ipykernel)",
   "language": "python",
   "name": "python3"
  },
  "language_info": {
   "codemirror_mode": {
    "name": "ipython",
    "version": 3
   },
   "file_extension": ".py",
   "mimetype": "text/x-python",
   "name": "python",
   "nbconvert_exporter": "python",
   "pygments_lexer": "ipython3",
   "version": "3.10.8"
  }
 },
 "nbformat": 4,
 "nbformat_minor": 5
}
